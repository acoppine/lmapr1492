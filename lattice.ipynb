{
 "cells": [
  {
   "cell_type": "markdown",
   "id": "solid-characteristic",
   "metadata": {},
   "source": [
    "# LMAPR1492 : Tâche 5"
   ]
  },
  {
   "cell_type": "code",
   "execution_count": null,
   "id": "optical-atmosphere",
   "metadata": {},
   "outputs": [],
   "source": [
    "#Code de Alexandre Coppine NOMA : 25671800"
   ]
  },
  {
   "cell_type": "code",
   "execution_count": 86,
   "id": "mobile-redhead",
   "metadata": {},
   "outputs": [],
   "source": [
    "from pymatgen import Structure, Lattice, Molecule\n",
    "from pymatgen.ext.matproj  import MPRester\n",
    "from jupyter_jsmol.pymatgen import quick_view\n",
    "from pymatgen.symmetry.analyzer import SpacegroupAnalyzer"
   ]
  },
  {
   "cell_type": "code",
   "execution_count": 87,
   "id": "caroline-intro",
   "metadata": {},
   "outputs": [],
   "source": [
    "with MPRester(\"MoXgF85AP31iKfy0\") as m:\n",
    "    structure =  m.get_structure_by_material_id(\"mp-169\")"
   ]
  },
  {
   "cell_type": "code",
   "execution_count": 88,
   "id": "sharing-circulation",
   "metadata": {},
   "outputs": [],
   "source": [
    "reseau = structure.lattice\n",
    "lengths = reseau.lengths\n",
    "angles = reseau.angles\n",
    "struct_recip = maille.reciprocal_lattice\n",
    "lengths_recip = struct_recip.lengths\n",
    "angles_recip = struct_recip.angles"
   ]
  },
  {
   "cell_type": "code",
   "execution_count": 93,
   "id": "pleasant-exercise",
   "metadata": {},
   "outputs": [],
   "source": [
    "analyzer = SpacegroupAnalyzer(structure)\n",
    "maille = structure.lattice\n",
    "lengths = maille.lengths\n",
    "angles =maille.angles\n",
    "maille_recip = maille.reciprocal_lattice\n",
    "lengths_recip = maille_recip.lengths\n",
    "angles_recip = maille_recip.angles\n",
    "analyzer = SpacegroupAnalyzer(structure) \n",
    "type_maille = analyzer.get_lattice_type()\n",
    "syst_cristallin = analyzer.get_crystal_system()\n",
    "gr_ponctuel = analyzer.get_point_group_symbol()"
   ]
  },
  {
   "cell_type": "code",
   "execution_count": 98,
   "id": "stone-tennis",
   "metadata": {},
   "outputs": [
    {
     "name": "stdout",
     "output_type": "stream",
     "text": [
      "Les vecteurs a, b et c de base du réseau direct sont respectivement de taille 4.265459787103027 4.265459787103027 4.265460115147368\n",
      "Et leurs angles d'amplitude 33.63713655663974° 33.63713655663974° 33.63714263914032°\n",
      "Les vecteurs de base du réseau réciproque sont respectivement de taille 2.985094345241621 2.9850943452416208 2.985094591964183\n",
      "Et les angles correspondants d'amplitude 117.02093767938672° 117.02093767938672° 117.02091975331857°\n",
      "\n",
      "\n",
      "Type de maille: rhombohedral (rhombohédrique en français)\n",
      "Système cristallin : trigonal\n",
      "Cela est bien en accord avec le fait que nous avons des vecteurs de base égaux et des angles égaux différents de 90°\n",
      "Groupe_ponctuel: -3m\n",
      "En effet, nous avons bien un système avec un axe de roto-inversion d'ordre 3 et un plan mirroir. \n"
     ]
    }
   ],
   "source": [
    "print(\"Les vecteurs a, b et c de base du réseau direct sont respectivement de taille \" +str(lengths[0])+\" \"+str(lengths[1])+\" \"+str(lengths[2]))\n",
    "print(\"Et leurs angles d'amplitude \"+str(angles[0])+\"°\"+\" \"+str(angles[1])+\"°\"+\" \"+str(angles[2])+\"°\")\n",
    "print(\"Les vecteurs de base du réseau réciproque sont respectivement de taille \" +str(lengths_recip[0])+\" \"+str(lengths_recip[1])+\" \"+str(lengths_recip[2]))\n",
    "print(\"Et les angles correspondants d'amplitude \"+str(angles_recip[0])+\"°\"+\" \"+str(angles_recip[1])+\"°\"+\" \"+str(angles_recip[2])+\"°\")\n",
    "print(\"\\n\")\n",
    "print(\"Type de maille: \"+str(type_maille)+(\" (rhombohédrique en français)\"))\n",
    "print(\"Système cristallin : \"+str(syst_cristallin))\n",
    "print(\"Cela est bien en accord avec le fait que nous avons des vecteurs de base égaux et des angles égaux différents de 90°\")\n",
    "print(\"Groupe_ponctuel: \"+str(gr_ponctuel))\n",
    "print(\"En effet, nous avons bien un système avec un axe de roto-inversion d'ordre 3 et un plan mirroir. \")"
   ]
  }
 ],
 "metadata": {
  "kernelspec": {
   "display_name": "Python 3",
   "language": "python",
   "name": "python3"
  },
  "language_info": {
   "codemirror_mode": {
    "name": "ipython",
    "version": 3
   },
   "file_extension": ".py",
   "mimetype": "text/x-python",
   "name": "python",
   "nbconvert_exporter": "python",
   "pygments_lexer": "ipython3",
   "version": "3.6.8"
  }
 },
 "nbformat": 4,
 "nbformat_minor": 5
}
